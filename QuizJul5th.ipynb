{
 "cells": [
  {
   "cell_type": "code",
   "execution_count": null,
   "metadata": {},
   "outputs": [],
   "source": [
    "def foo( number ):\n",
    "    for i in range( ? ):\n",
    "        print( \"hello\") \n",
    "\n",
    "foo( number = 5 )\n",
    "\n",
    "\n",
    "# 1.)  what is the correct code that goes in the question mark on line 2:\n",
    "\n",
    "# A.) len(number)\n",
    "# B.) number\n",
    "# C.) length(number)\n",
    "# D.) 4"
   ]
  },
  {
   "cell_type": "code",
   "execution_count": null,
   "metadata": {},
   "outputs": [],
   "source": [
    "def fx( word ):\n",
    "    for i in range( ? ):\n",
    "        print( \"hello\") \n",
    "\n",
    "fx( word = \"Incredible\" )\n",
    "\n",
    "\n",
    "# 2.)  what is the correct code that goes in the question mark on line 2:\n",
    "\n",
    "# A.) len(word)\n",
    "# B.) word\n",
    "# C.) length(word)\n",
    "# D.) 10"
   ]
  },
  {
   "cell_type": "markdown",
   "metadata": {},
   "source": [
    "if \"cat\" == \"dog\":\n",
    "    print(\"prrrr\")\n",
    "else:\n",
    "    print(\"ruff\")\n",
    "\n",
    "3.) What does the following code print to the console? And Why ? \n",
    "\n",
    "A.) \"prrrr\"\n",
    "B.) \"ruff\"\n",
    "C.) nothing prints to the console \n",
    "D.) both A and B"
   ]
  },
  {
   "cell_type": "markdown",
   "metadata": {},
   "source": [
    "if 5 > 10:\n",
    "    print(\"fan\")\n",
    "elif 8 != 9:\n",
    "    print(\"glass\")\n",
    "else:\n",
    "    print(\"cream\")\n",
    "    \n",
    "4.) What does the following code print to the console? And Why ? \n",
    "\n",
    "A.) \"fan\"\n",
    "B.) \"glass\"\n",
    "C.) \"cream\"\n",
    "D.) both A , B, and C "
   ]
  },
  {
   "cell_type": "markdown",
   "metadata": {},
   "source": [
    "if 5 > 10:\n",
    "    print(\"fan\")\n",
    "if 8 != 9:\n",
    "    print(\"glass\")\n",
    "if True:\n",
    "    print(\"cream\")\n",
    "    \n",
    "5.) What does the following code print to the console? And Why ? \n",
    "\n",
    "A.) \"fan\"\n",
    "B.) \"glass\"\n",
    "C.) \"cream\"\n",
    "D.) both A , B, and C "
   ]
  },
  {
   "cell_type": "markdown",
   "metadata": {},
   "source": [
    "name = \"maria\"\n",
    "if name == \"melissa\":\n",
    "    print(\"usa\")\n",
    "elif name == \"mary\":\n",
    "    print(\"ireland\")\n",
    "else:\n",
    "    print(\"colombia\")\n",
    "    \n",
    "6.) What does the following code print to the console? \n",
    "\n",
    "A.) \"usa\"\n",
    "B.) \"ireland\"\n",
    "C.) \"colombia\"\n",
    "D.)  nothing "
   ]
  },
  {
   "cell_type": "markdown",
   "metadata": {},
   "source": [
    "a, b = 12, 5\n",
    "if a + b:\n",
    "    print('True')\n",
    "else:\n",
    "  print('False')\n",
    "\n",
    "\n",
    "7.) What is the output of the following if statement ? \n",
    "\n",
    "A.) True \n",
    "B.) False\n",
    "C.) Nothing \n",
    "D.) both A and B "
   ]
  },
  {
   "cell_type": "markdown",
   "metadata": {},
   "source": [
    "8.) What is the command to take a picture ? \n",
    "\n",
    "A.) camera.capture()\n",
    "B.) capture ()\n",
    "C.) zumi.take_picture()\n",
    "D.) take_picture() "
   ]
  },
  {
   "cell_type": "markdown",
   "metadata": {},
   "source": [
    "9.)  what do you do directly after taking a picture in code ? \n",
    "\n",
    "A.) close the camera \n",
    "B.) save the picture\n",
    "C.) nothing\n",
    "D.) Reset the camera "
   ]
  },
  {
   "cell_type": "markdown",
   "metadata": {},
   "source": [
    "10.) What is the issue with the comamnd \"screen.display_text('hello')\"\n",
    "\n",
    "A.) The command deletes the previous text when it is called again \n",
    "B.) There is no issue\n",
    "C.) The command cannot print spaces \n",
    "D.) the comamnd can only print on one line"
   ]
  },
  {
   "cell_type": "code",
   "execution_count": null,
   "metadata": {},
   "outputs": [],
   "source": [
    "#11.) \n",
    "\n",
    "input0 = \"ban\"          #print1\n",
    "input1 = \"to\"           #print2\n",
    "input2 = \"incredible\"   #print3\n",
    "\n",
    "\n",
    "def foo( word ):\n",
    "    \n",
    "    if   word <  ? and (? ? ?):\n",
    "        print('1')\n",
    "    elif word ==  ?: \n",
    "        print('2')\n",
    "    else:\n",
    "        print('3')"
   ]
  }
 ],
 "metadata": {
  "kernelspec": {
   "display_name": "Python 3",
   "language": "python",
   "name": "python3"
  },
  "language_info": {
   "codemirror_mode": {
    "name": "ipython",
    "version": 3
   },
   "file_extension": ".py",
   "mimetype": "text/x-python",
   "name": "python",
   "nbconvert_exporter": "python",
   "pygments_lexer": "ipython3",
   "version": "3.5.3"
  }
 },
 "nbformat": 4,
 "nbformat_minor": 2
}
