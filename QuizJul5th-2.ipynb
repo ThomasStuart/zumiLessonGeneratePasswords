{
 "cells": [
  {
   "cell_type": "code",
   "execution_count": null,
   "metadata": {},
   "outputs": [],
   "source": [
    "def foo( number ):\n",
    "    for i in range( ? ):\n",
    "        print( \"hello\") \n",
    "\n",
    "foo( number = 5 )\n",
    "\n",
    "\n",
    "# 1.)  what is the correct code that goes in the question mark on line 2:\n",
    "\n",
    "# A.) len(number)\n",
    "# B.) number\n",
    "# C.) length(number)\n",
    "# D.) 4"
   ]
  },
  {
   "cell_type": "code",
   "execution_count": null,
   "metadata": {},
   "outputs": [],
   "source": [
    "def fx( word ):\n",
    "    for i in range( ? ):\n",
    "        print( \"hello\") \n",
    "\n",
    "fx( word = \"Incredible\" )\n",
    "\n",
    "\n",
    "# 2.)  what is the correct code that goes in the question mark on line 2:\n",
    "\n",
    "# A.) len(word)\n",
    "# B.) word\n",
    "# C.) length(word)\n",
    "# D.) 10"
   ]
  },
  {
   "cell_type": "markdown",
   "metadata": {},
   "source": [
    "if \"cat\" == \"dog\": <br>\n",
    "    print(\"prrrr\")<br>\n",
    "else:<br>\n",
    "    print(\"ruff\")<br>\n",
    "\n",
    "3.) What does the following code print to the console? And Why ? <br>\n",
    "\n",
    "A.) \"prrrr\"<br>\n",
    "B.) \"ruff\"<br>\n",
    "C.) nothing prints to the console <br>\n",
    "D.) both A and B<br>"
   ]
  },
  {
   "cell_type": "markdown",
   "metadata": {},
   "source": [
    "if 5 > 10:<br>\n",
    "    print(\"fan\")<br>\n",
    "elif 8 != 9:<br>\n",
    "    print(\"glass\")<br>\n",
    "else:<br>\n",
    "    print(\"cream\")<br>\n",
    "    \n",
    "4.) What does the following code print to the console? And Why ? <br>\n",
    "\n",
    "A.) \"fan\"<br>\n",
    "B.) \"glass\"<br>\n",
    "C.) \"cream\"<br>\n",
    "D.) both A , B, and C <br>"
   ]
  },
  {
   "cell_type": "markdown",
   "metadata": {},
   "source": [
    "if 5 > 10:<br>\n",
    "    print(\"fan\")<br>\n",
    "if 8 != 9:<br>\n",
    "    print(\"glass\")<br>\n",
    "if True:<br>\n",
    "    print(\"cream\")<br>\n",
    "    \n",
    "5.) What does the following code print to the console? And Why ? <br>\n",
    "\n",
    "A.) \"fan\"<br>\n",
    "B.) \"glass\"<br>\n",
    "C.) \"cream\"<br>\n",
    "D.) both A , B, and C <br>"
   ]
  },
  {
   "cell_type": "markdown",
   "metadata": {},
   "source": [
    "name = \"maria\"<br>\n",
    "if name == \"melissa\":<br>\n",
    "    print(\"usa\")<br>\n",
    "elif name == \"mary\":<br>\n",
    "    print(\"ireland\")<br>\n",
    "else:<br>\n",
    "    print(\"colombia\")<br>\n",
    "    \n",
    "6.) What does the following code print to the console? <br>\n",
    "\n",
    "A.) \"usa\"<br>\n",
    "B.) \"ireland\"<br>\n",
    "C.) \"colombia\"<br>\n",
    "D.)  nothing <br>"
   ]
  },
  {
   "cell_type": "markdown",
   "metadata": {},
   "source": [
    "a, b = 12, 5<br>\n",
    "if a + b:<br>\n",
    "    print('True')<br>\n",
    "else:<br>\n",
    "  print('False')<br>\n",
    "\n",
    "\n",
    "7.) What is the output of the following if statement ? <br>\n",
    "\n",
    "A.) True <br>\n",
    "B.) False<br>\n",
    "C.) Nothing <br>\n",
    "D.) both A and B <br>"
   ]
  },
  {
   "cell_type": "markdown",
   "metadata": {},
   "source": [
    "8.) What is the command to take a picture ? <br>\n",
    "\n",
    "A.) camera.capture()<br>\n",
    "B.) capture ()<br>\n",
    "C.) zumi.take_picture()<br>\n",
    "D.) take_picture() <br>"
   ]
  },
  {
   "cell_type": "markdown",
   "metadata": {},
   "source": [
    "9.)  what do you do directly after taking a picture in code ? <br>\n",
    "\n",
    "A.) close the camera <br>\n",
    "B.) save the picture<br>\n",
    "C.) nothing<br>\n",
    "D.) Reset the camera <br>"
   ]
  },
  {
   "cell_type": "markdown",
   "metadata": {},
   "source": [
    "10.) What is the issue with the comamnd \"screen.display_text('hello')\"<br>\n",
    "\n",
    "A.) The command deletes the previous text when it is called again <br>\n",
    "B.) There is no issue<br>\n",
    "C.) The command cannot print spaces <br>\n",
    "D.) the comamnd can only print on one line<br>"
   ]
  },
  {
   "cell_type": "code",
   "execution_count": null,
   "metadata": {},
   "outputs": [],
   "source": [
    "#11.) Adjust the program so: \n",
    "# when input0 is given to the function foo, print 0 is outputted\n",
    "# when input1 is given to the function foo, print 1 is outputted\n",
    "# when input2 is given to the function foo, print 2 is outputted\n",
    "\n",
    "input0 = \"ban\"          #print0\n",
    "input1 = \"to\"           #print1\n",
    "input2 = \"incredible\"   #print2\n",
    "\n",
    "\n",
    "def foo( word ):\n",
    "    \n",
    "    if   word <  ? and (? ? ?):\n",
    "        print('0')\n",
    "    elif word ==  ?: \n",
    "        print('1')\n",
    "    else:\n",
    "        print('2')"
   ]
  },
  {
   "cell_type": "code",
   "execution_count": null,
   "metadata": {},
   "outputs": [],
   "source": []
  }
 ],
 "metadata": {
  "kernelspec": {
   "display_name": "Python 3",
   "language": "python",
   "name": "python3"
  },
  "language_info": {
   "codemirror_mode": {
    "name": "ipython",
    "version": 3
   },
   "file_extension": ".py",
   "mimetype": "text/x-python",
   "name": "python",
   "nbconvert_exporter": "python",
   "pygments_lexer": "ipython3",
   "version": "3.5.3"
  }
 },
 "nbformat": 4,
 "nbformat_minor": 2
}
