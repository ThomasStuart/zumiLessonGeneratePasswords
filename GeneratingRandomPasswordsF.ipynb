{
 "cells": [
  {
   "cell_type": "code",
   "execution_count": 9,
   "metadata": {},
   "outputs": [],
   "source": [
    "# generate random integer values\n",
    "from random import seed\n",
    "from random import randint\n",
    "\n",
    "# seed random number generator\n",
    "seed(1)  # [ 3, 5, 9, 10 , ...]"
   ]
  },
  {
   "cell_type": "code",
   "execution_count": 11,
   "metadata": {},
   "outputs": [
    {
     "name": "stdout",
     "output_type": "stream",
     "text": [
      "2\n",
      "9\n",
      "1\n",
      "4\n",
      "1\n",
      "7\n",
      "7\n",
      "7\n",
      "10\n",
      "6\n"
     ]
    }
   ],
   "source": [
    "# generate some integers\n",
    "for _ in range(10):\n",
    "    value = randint(0, 10)\n",
    "    print(value)"
   ]
  },
  {
   "cell_type": "code",
   "execution_count": 13,
   "metadata": {},
   "outputs": [
    {
     "name": "stdout",
     "output_type": "stream",
     "text": [
      "b\n"
     ]
    }
   ],
   "source": [
    "numericValue            = 98\n",
    "characterRepresentation = chr(numericValue)  #cast from numberic value to ascii value\n",
    "\n",
    "print(characterRepresentation)"
   ]
  },
  {
   "cell_type": "code",
   "execution_count": 17,
   "metadata": {},
   "outputs": [
    {
     "name": "stdout",
     "output_type": "stream",
     "text": [
      "a\n",
      "b\n",
      "c\n",
      "d\n",
      "z\n"
     ]
    }
   ],
   "source": [
    "print( chr(97) )  # 97  -> a\n",
    "print( chr(98) )  # 98  -> b\n",
    "print( chr(99) )  # 99  -> c\n",
    "print( chr(100) ) # 100 -> d\n",
    "# ...\n",
    "print( chr(122) ) # z"
   ]
  },
  {
   "cell_type": "code",
   "execution_count": 18,
   "metadata": {},
   "outputs": [
    {
     "name": "stdout",
     "output_type": "stream",
     "text": [
      "b\n",
      "a\n",
      "c\n"
     ]
    }
   ],
   "source": [
    "# generate random integer values\n",
    "from random import seed\n",
    "from random import randint\n",
    "\n",
    "# seed random number generator\n",
    "seed(1)  # [ 3, 5, 9, 10 , ...]\n",
    "\n",
    "# value = randint( startNumber, endNumber)\n",
    "\n",
    "# get characters [a-z] (lowercase)\n",
    "def generateRandomCharacter():\n",
    "    # 1.) call the randint fx from 97 to y=100  ? \n",
    "    numbericValue = randint(97,100)\n",
    "    # 2.) convert that number into the ascii value\n",
    "    asciiValue = chr(numbericValue) \n",
    "    # 3.) return that value \n",
    "    return asciiValue\n",
    " \n",
    "print( generateRandomCharacter() ) # y\n",
    "print( generateRandomCharacter() ) # b\n",
    "print( generateRandomCharacter() ) # g"
   ]
  },
  {
   "cell_type": "code",
   "execution_count": 19,
   "metadata": {},
   "outputs": [
    {
     "name": "stdout",
     "output_type": "stream",
     "text": [
      "bacad\n",
      "dddba\n",
      "dadda\n"
     ]
    }
   ],
   "source": [
    "# generate random integer values\n",
    "from random import seed\n",
    "from random import randint\n",
    "\n",
    "# seed random number generator\n",
    "seed(1)  # [ 3, 5, 9, 10 , ...]\n",
    "\n",
    "def generateRandomCharacter():\n",
    "    numbericValue = randint(97,100)\n",
    "    asciiValue = chr(numbericValue) \n",
    "    return asciiValue\n",
    "\n",
    "\n",
    "\n",
    "def generateRandomWordOfLength5():\n",
    "    #pseudo-code\n",
    "    #1.) empty string to hold the randomWord \n",
    "    randomWord = \"\"\n",
    "    #2.) for i in range( 5 ) # repeats something 5 times \n",
    "    for i in range(5):\n",
    "        #3.)call the helper function that we just made called generateRandomCharacter\n",
    "        randomCharacter = generateRandomCharacter()\n",
    "        #4.)    add the randomCharacter to the string randomWord\n",
    "        # randomCharacter = x\n",
    "        #              \"\"       +   \"x\"\n",
    "        # randomCharacter = y\n",
    "        #             \"x\"       + \"y\"\n",
    "        randomWord = randomWord + randomCharacter\n",
    "        # \"xy\"\n",
    "        \n",
    "    #5.) return randomWord\n",
    "    return randomWord\n",
    "\n",
    "print( generateRandomWordOfLength5() ) # sdjab \n",
    "print( generateRandomWordOfLength5() ) # dfsjq\n",
    "print( generateRandomWordOfLength5() ) # oijqw"
   ]
  },
  {
   "cell_type": "code",
   "execution_count": 22,
   "metadata": {},
   "outputs": [
    {
     "name": "stdout",
     "output_type": "stream",
     "text": [
      "bdd\n",
      "bdcdaaa\n",
      "dcabc\n"
     ]
    }
   ],
   "source": [
    "# generate random integer values\n",
    "from random import seed\n",
    "from random import randint\n",
    "\n",
    "# seed random number generator\n",
    "seed(100)  # [ 3, 5, 9, 10 , ...]\n",
    "\n",
    "def generateRandomCharacter():\n",
    "    numbericValue = randint(97,100)\n",
    "    asciiValue = chr(numbericValue) \n",
    "    return asciiValue\n",
    "\n",
    "\n",
    "\n",
    "def generateRandomPassword( length ):\n",
    "    randomWord = \"\"\n",
    "\n",
    "    for i in range( length ):\n",
    "        randomCharacter = generateRandomCharacter()\n",
    "        randomWord = randomWord + randomCharacter\n",
    "   \n",
    "    return randomWord\n",
    "\n",
    "print( generateRandomPassword(length=3) ) # sdj\n",
    "print( generateRandomPassword(length=7) ) # dfsjqia\n",
    "print( generateRandomPassword(length=5) ) # oijqw"
   ]
  },
  {
   "cell_type": "code",
   "execution_count": 23,
   "metadata": {},
   "outputs": [
    {
     "name": "stdout",
     "output_type": "stream",
     "text": [
      "3[[\n",
      "7{S~MXa\n",
      "/e0+[\n"
     ]
    }
   ],
   "source": [
    "# generate random integer values\n",
    "from random import seed\n",
    "from random import randint\n",
    "\n",
    "# seed random number generator\n",
    "seed(100)  # [ 3, 5, 9, 10 , ...]\n",
    "\n",
    "def generateRandomCharacter():\n",
    "    numbericValue = randint(33,126)\n",
    "    asciiValue = chr(numbericValue) \n",
    "    return asciiValue\n",
    "\n",
    "\n",
    "\n",
    "def generateRandomPassword( length ):\n",
    "    randomWord = \"\"\n",
    "\n",
    "    for i in range( length ):\n",
    "        randomCharacter = generateRandomCharacter()\n",
    "        randomWord = randomWord + randomCharacter\n",
    "   \n",
    "    return randomWord\n",
    "\n",
    "print( generateRandomPassword(length=3) ) # sdj\n",
    "print( generateRandomPassword(length=7) ) # dfsjqia\n",
    "print( generateRandomPassword(length=5) ) # oijqw"
   ]
  },
  {
   "cell_type": "code",
   "execution_count": null,
   "metadata": {},
   "outputs": [],
   "source": []
  }
 ],
 "metadata": {
  "kernelspec": {
   "display_name": "Python 3",
   "language": "python",
   "name": "python3"
  },
  "language_info": {
   "codemirror_mode": {
    "name": "ipython",
    "version": 3
   },
   "file_extension": ".py",
   "mimetype": "text/x-python",
   "name": "python",
   "nbconvert_exporter": "python",
   "pygments_lexer": "ipython3",
   "version": "3.5.3"
  }
 },
 "nbformat": 4,
 "nbformat_minor": 2
}
