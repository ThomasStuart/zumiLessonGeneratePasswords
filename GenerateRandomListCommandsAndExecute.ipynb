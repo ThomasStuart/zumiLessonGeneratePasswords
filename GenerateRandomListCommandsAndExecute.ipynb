{
 "cells": [
  {
   "cell_type": "code",
   "execution_count": 15,
   "metadata": {},
   "outputs": [
    {
     "name": "stdout",
     "output_type": "stream",
     "text": [
      "forward\n",
      "tLeft\n",
      "tRight\n",
      "reverse\n"
     ]
    }
   ],
   "source": [
    "#          # 0         #1         #2       #3         #4\n",
    "commands = [\"forward\", \"reverse\", \"tLeft\", \"tRight\" , \"circle\" ]\n",
    "\n",
    "print(commands[0]) # \"forward\"\n",
    "print(commands[2]) # \"tLeft\"\n",
    "print(commands[3]) # \"tRight\"\n",
    "print(commands[1]) # \"reverse\""
   ]
  },
  {
   "cell_type": "code",
   "execution_count": 7,
   "metadata": {},
   "outputs": [
    {
     "name": "stdout",
     "output_type": "stream",
     "text": [
      "reverse\n",
      "tRight\n",
      "tRight\n"
     ]
    }
   ],
   "source": [
    "# generate random integer values\n",
    "from random import seed\n",
    "from random import randint\n",
    "\n",
    "#          # 0         #1         #2       #3         #4\n",
    "commands = [\"forward\", \"reverse\", \"tLeft\", \"tRight\" , \"circle\" ]\n",
    "\n",
    "\n",
    "# seed random number generator\n",
    "seed(100)  \n",
    "\n",
    "\n",
    "def getRandomCommand():\n",
    "    global commands\n",
    "    \n",
    "    # 1.) generate a random index [0, len(commands)] \n",
    "    randomIndex = randint(0,len(commands)-1)\n",
    "    # 2.) get the element at random index\n",
    "    element     = commands[randomIndex]\n",
    "    # 3.)return \n",
    "    return element\n",
    "\n",
    "print(getRandomCommand() ) # reverse\n",
    "print(getRandomCommand() ) # tRight\n",
    "print(getRandomCommand() ) # reverse"
   ]
  },
  {
   "cell_type": "code",
   "execution_count": 8,
   "metadata": {},
   "outputs": [
    {
     "name": "stdout",
     "output_type": "stream",
     "text": [
      "['reverse', 'tRight', 'tLeft']\n",
      "['tRight', 'circle']\n"
     ]
    }
   ],
   "source": [
    "def getRandomCommandList(n):\n",
    "    # 1.) create an empty list\n",
    "    rList = [] \n",
    "    # 2.) for loop to run from 0 to n \n",
    "    for i in range(0, n):\n",
    "        # 3.) get random command \n",
    "        randomCommand = getRandomCommand()\n",
    "        # 4.) add command to the list\n",
    "        rList.append(randomCommand) \n",
    "    # 5.) return the list\n",
    "    return rList\n",
    "\n",
    "print(getRandomCommandList(n=3)) # rList = [forward, left, right]\n",
    "print(getRandomCommandList(n=2)) # rList = [circle, sound]"
   ]
  },
  {
   "cell_type": "code",
   "execution_count": 13,
   "metadata": {},
   "outputs": [
    {
     "name": "stdout",
     "output_type": "stream",
     "text": [
      "Starting Zumi \n",
      "Pi Zero I2C is available\n",
      "Verified Pi Zero is the same\n",
      "Gyroscope previously calibrated\n",
      "Zumi board detected\n",
      "OLED Screen detected\n",
      "Gyroscope & Accelerometer detected\n"
     ]
    }
   ],
   "source": [
    "from zumi.zumi import Zumi\n",
    "zumi = Zumi()\n",
    "\n",
    "\n",
    "def executeRandomCommandList( commandList ):\n",
    "    # 1.) traverse through command list one by one\n",
    "    for i in range(0, len(commandList)):\n",
    "        command = commandList[i]\n",
    "        #    1A.) translate the command to zumi executable command \n",
    "        if   command == \"forward\":\n",
    "            zumi.forward(40,2)\n",
    "        elif command == \"reverse\":\n",
    "            zumi.reverse()\n",
    "        elif command == \"tLeft\":\n",
    "            zumi.turn_left()\n",
    "        elif command  == \"tRight\":\n",
    "            zumi.turn_right\n",
    "        elif command == \"circle\":\n",
    "            pass #TODO: fill in later\n"
   ]
  },
  {
   "cell_type": "code",
   "execution_count": 14,
   "metadata": {},
   "outputs": [],
   "source": [
    "executeRandomCommandList( getRandomCommandList(3) )"
   ]
  },
  {
   "cell_type": "code",
   "execution_count": 19,
   "metadata": {},
   "outputs": [
    {
     "name": "stdout",
     "output_type": "stream",
     "text": [
      "Starting Zumi \n",
      "Pi Zero I2C is available\n",
      "Verified Pi Zero is the same\n",
      "Gyroscope previously calibrated\n",
      "Zumi board detected\n",
      "OLED Screen detected\n",
      "Gyroscope & Accelerometer detected\n",
      "Enter a random seed7\n",
      "tLeft\n",
      "reverse\n",
      "tRight\n",
      "forward\n",
      "forward\n"
     ]
    }
   ],
   "source": [
    "# generate random integer values\n",
    "from random import seed\n",
    "from random import randint\n",
    "from zumi.zumi import Zumi\n",
    "zumi = Zumi()\n",
    "\n",
    "#          # 0         #1         #2       #3         #4\n",
    "commands = [\"forward\", \"reverse\", \"tLeft\", \"tRight\" , \"circle\" ]\n",
    "\n",
    "def getRandomCommand():\n",
    "    global commands\n",
    "    \n",
    "    # 1.) generate a random index [0, len(commands)] \n",
    "    randomIndex = randint(0,len(commands)-1)\n",
    "    # 2.) get the element at random index\n",
    "    element     = commands[randomIndex]\n",
    "    # 3.)return \n",
    "    return element\n",
    "\n",
    "def getRandomCommandList(n):\n",
    "    # 1.) create an empty list\n",
    "    rList = [] \n",
    "    # 2.) for loop to run from 0 to n \n",
    "    for i in range(0, n):\n",
    "        # 3.) get random command \n",
    "        randomCommand = getRandomCommand()\n",
    "        # 4.) add command to the list\n",
    "        rList.append(randomCommand) \n",
    "    # 5.) return the list\n",
    "    return rList\n",
    "\n",
    "def executeRandomCommandList( commandList ):\n",
    "    # 1.) traverse through command list one by one\n",
    "    for i in range(0, len(commandList)):\n",
    "        command = commandList[i]\n",
    "        #    1A.) translate the command to zumi executable command \n",
    "        if   command == \"forward\":\n",
    "            zumi.forward(40,2)\n",
    "        elif command == \"reverse\":\n",
    "            zumi.reverse()\n",
    "        elif command == \"tLeft\":\n",
    "            zumi.turn_left()\n",
    "        elif command  == \"tRight\":\n",
    "            zumi.turn_right\n",
    "        elif command == \"circle\":\n",
    "            pass #TODO: fill in later\n",
    "        \n",
    "\n",
    "userEnteredSeed = input(\"Enter a random seed\")\n",
    "userEnteredSeed = int(userEnteredSeed)\n",
    "seed(userEnteredSeed)  # seed random number generator\n",
    "\n",
    "# Get 5 random commands\n",
    "n = 5\n",
    "randomCommandList = getRandomCommandList(n)\n",
    "executeRandomCommandList( randomCommandList )"
   ]
  },
  {
   "cell_type": "code",
   "execution_count": 17,
   "metadata": {},
   "outputs": [
    {
     "name": "stdout",
     "output_type": "stream",
     "text": [
      "Enter some textsjlfasdjfsdjfklsjflksdjfsl\n",
      "You entered:   sjlfasdjfsdjfklsjflksdjfsl\n"
     ]
    }
   ],
   "source": [
    "userInput = input(\"Enter some text\")\n",
    "print(\"You entered:  \", userInput)"
   ]
  },
  {
   "cell_type": "code",
   "execution_count": null,
   "metadata": {},
   "outputs": [],
   "source": []
  }
 ],
 "metadata": {
  "kernelspec": {
   "display_name": "Python 3",
   "language": "python",
   "name": "python3"
  },
  "language_info": {
   "codemirror_mode": {
    "name": "ipython",
    "version": 3
   },
   "file_extension": ".py",
   "mimetype": "text/x-python",
   "name": "python",
   "nbconvert_exporter": "python",
   "pygments_lexer": "ipython3",
   "version": "3.5.3"
  }
 },
 "nbformat": 4,
 "nbformat_minor": 2
}
